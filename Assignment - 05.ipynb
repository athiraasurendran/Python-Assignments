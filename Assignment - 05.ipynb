{
 "cells": [
  {
   "cell_type": "markdown",
   "id": "d8a95b4a-23f4-47ce-b4c1-47e7c8df7998",
   "metadata": {},
   "source": [
    "## <span style = color:brown;> Assignment - Conditional Statements</span>"
   ]
  },
  {
   "cell_type": "markdown",
   "id": "44c2f798-53f0-45c0-a629-00a51d4dbed3",
   "metadata": {},
   "source": [
    "##### 1. Write the syntax of simple if statement."
   ]
  },
  {
   "cell_type": "code",
   "execution_count": 1,
   "id": "389bd3d6-4b46-4fbd-827f-0c6438eb3dd6",
   "metadata": {},
   "outputs": [
    {
     "name": "stdout",
     "output_type": "stream",
     "text": [
      "pass\n"
     ]
    }
   ],
   "source": [
    "mark = 89\n",
    "\n",
    "if mark >= 80:\n",
    "    print(\"pass\")"
   ]
  },
  {
   "cell_type": "markdown",
   "id": "6ff90ec8-6688-47eb-b6b4-a276af0778ab",
   "metadata": {},
   "source": [
    "##### 2. Write a program that takes an integer as input and checks whether it is even or odd using if-else statements."
   ]
  },
  {
   "cell_type": "code",
   "execution_count": 2,
   "id": "3caa0f88-fda3-4a2a-8243-0fa9795354f4",
   "metadata": {},
   "outputs": [
    {
     "name": "stdin",
     "output_type": "stream",
     "text": [
      "Enter an integer:  2\n"
     ]
    },
    {
     "name": "stdout",
     "output_type": "stream",
     "text": [
      "num is Even\n"
     ]
    }
   ],
   "source": [
    "num = int(input(\"Enter an integer: \"))\n",
    "\n",
    "if num % 2 == 0:\n",
    "    print(\"num is Even\")\n",
    "else:\n",
    "    print(\"num is odd\")"
   ]
  },
  {
   "cell_type": "code",
   "execution_count": 4,
   "id": "a6c487d1-8685-4000-9d9e-5257e3b2e485",
   "metadata": {},
   "outputs": [
    {
     "name": "stdin",
     "output_type": "stream",
     "text": [
      "Enter an integer:  13\n"
     ]
    },
    {
     "name": "stdout",
     "output_type": "stream",
     "text": [
      "num is odd\n"
     ]
    }
   ],
   "source": [
    "num = int(input(\"Enter an integer: \"))\n",
    "\n",
    "if num % 2 == 0:\n",
    "    print(\"num is Even\")\n",
    "else:\n",
    "    print(\"num is odd\")"
   ]
  },
  {
   "cell_type": "markdown",
   "id": "5908c46f-1e81-48df-953e-cb2a1bffa15f",
   "metadata": {},
   "source": [
    "##### 3. Write a program that takes three numbers as input and determines the largest number using if-elif-else statements."
   ]
  },
  {
   "cell_type": "code",
   "execution_count": 7,
   "id": "1c0c3bd2-760e-4f00-8d4a-95676ba0075a",
   "metadata": {},
   "outputs": [
    {
     "name": "stdin",
     "output_type": "stream",
     "text": [
      "Enter first num:  446\n",
      "Enter second num:  701\n",
      "Enter third num:  223\n"
     ]
    },
    {
     "name": "stdout",
     "output_type": "stream",
     "text": [
      "Large num is:  701\n"
     ]
    }
   ],
   "source": [
    "num1 = int(input(\"Enter first num: \"))\n",
    "num2 = int(input(\"Enter second num: \"))\n",
    "num3 = int(input(\"Enter third num: \"))\n",
    "\n",
    "if num1 >= num2 and num1 >= num3:\n",
    "    print(\"Large num is: \", num1)\n",
    "elif num2 >= num1 and num2 >= num3:\n",
    "    print(\"Large num is: \", num2)\n",
    "else:\n",
    "    print(\"Large num is: \", num3)"
   ]
  },
  {
   "cell_type": "markdown",
   "id": "24ddf5b5-bf2f-4bac-9bee-2874b54ed272",
   "metadata": {},
   "source": [
    "##### 4. Write a program that takes a student's marks as input and outputs their grade according to the following conditions:\n",
    "\n",
    "90 and above: A  \n",
    "80-89: B  \n",
    "70-79: C  \n",
    "60-69: D  \n",
    "Below 60: F"
   ]
  },
  {
   "cell_type": "code",
   "execution_count": 8,
   "id": "09290d36-1723-4383-995f-47ebe84bbd51",
   "metadata": {},
   "outputs": [
    {
     "name": "stdin",
     "output_type": "stream",
     "text": [
      "Enter the mark:  77\n"
     ]
    },
    {
     "name": "stdout",
     "output_type": "stream",
     "text": [
      "Grade: C\n"
     ]
    }
   ],
   "source": [
    "mark = int(input(\"Enter the mark: \"))\n",
    "\n",
    "if mark >= 90:\n",
    "    print(\"Grade: A\")\n",
    "elif mark >= 80:\n",
    "    print(\"Grade: B\")\n",
    "elif mark >= 70:\n",
    "    print(\"Grade: C\")\n",
    "elif mark >= 60:\n",
    "    print(\"Grade: D\")\n",
    "else:\n",
    "    print(\"Grade: F\")"
   ]
  },
  {
   "cell_type": "markdown",
   "id": "f118803b-241d-44ba-8892-f3f262877495",
   "metadata": {},
   "source": [
    "##### 5. Write a program that takes a character as input and checks whether it is a vowel or a consonant."
   ]
  },
  {
   "cell_type": "code",
   "execution_count": 15,
   "id": "05afa3ed-3a82-4974-b9f1-51e47afc592c",
   "metadata": {},
   "outputs": [
    {
     "name": "stdin",
     "output_type": "stream",
     "text": [
      "Enter a Character:  a\n"
     ]
    },
    {
     "name": "stdout",
     "output_type": "stream",
     "text": [
      "a is vowel\n"
     ]
    }
   ],
   "source": [
    "char = input(\"Enter a Character: \")\n",
    "\n",
    "if char in (\"a\", \"e\", \"i\", \"o\", \"u\", \"A\", \"E\", \"I\", \"O\", \"U\"):\n",
    "    print(char, \"is vowel\")\n",
    "else:\n",
    "    print(char, \"is consonant\")"
   ]
  },
  {
   "cell_type": "code",
   "execution_count": 14,
   "id": "0c97e399-1658-4bab-a192-58017bd20537",
   "metadata": {},
   "outputs": [
    {
     "name": "stdin",
     "output_type": "stream",
     "text": [
      "Enter a Character:  l\n"
     ]
    },
    {
     "name": "stdout",
     "output_type": "stream",
     "text": [
      "l is consonant\n"
     ]
    }
   ],
   "source": [
    "char = input(\"Enter a Character: \")\n",
    "\n",
    "if char in (\"a\", \"e\", \"i\", \"o\", \"u\", \"A\", \"E\", \"I\", \"O\", \"U\"):\n",
    "    print(char, \"is vowel\")\n",
    "else:\n",
    "    print(char, \"is consonant\")"
   ]
  },
  {
   "cell_type": "markdown",
   "id": "f507c9d0-4319-4684-93da-6f1706412b42",
   "metadata": {},
   "source": [
    "##### 6. Write a program to check if a given year is a leap year or not. A year is a leap year if it is divisible by 4, except for years divisible by 100 but not by 400."
   ]
  },
  {
   "cell_type": "code",
   "execution_count": 16,
   "id": "f4b98aa1-8b06-4bd0-b701-6a689eb6012f",
   "metadata": {},
   "outputs": [
    {
     "name": "stdin",
     "output_type": "stream",
     "text": [
      "Enter a year:  2000\n"
     ]
    },
    {
     "name": "stdout",
     "output_type": "stream",
     "text": [
      "2000 is a leap year\n"
     ]
    }
   ],
   "source": [
    "year = int(input(\"Enter a year: \"))\n",
    "\n",
    "if (year % 400 == 0) or (year % 4 == 0 and year % 100 != 0):\n",
    "    print(year, \"is a leap year\")\n",
    "else:\n",
    "    print(year, \"is not a leap year\")"
   ]
  },
  {
   "cell_type": "code",
   "execution_count": 17,
   "id": "d040a06c-beb3-4275-9758-4766fc0c22ad",
   "metadata": {},
   "outputs": [
    {
     "name": "stdin",
     "output_type": "stream",
     "text": [
      "Enter a year:  2021\n"
     ]
    },
    {
     "name": "stdout",
     "output_type": "stream",
     "text": [
      "2021 is not a leap year\n"
     ]
    }
   ],
   "source": [
    "year = int(input(\"Enter a year: \"))\n",
    "\n",
    "if (year % 400 == 0) or (year % 4 == 0 and year % 100 != 0):\n",
    "    print(year, \"is a leap year\")\n",
    "else:\n",
    "    print(year, \"is not a leap year\")"
   ]
  },
  {
   "cell_type": "markdown",
   "id": "973c043d-11ba-4c32-a84a-eb0b03e0c61d",
   "metadata": {},
   "source": [
    "##### 7. Write a program that takes a number as input and checks whether it is positive, negative, or zero."
   ]
  },
  {
   "cell_type": "code",
   "execution_count": 20,
   "id": "064a8ccb-f748-4195-8f54-8b84813509ed",
   "metadata": {},
   "outputs": [
    {
     "name": "stdin",
     "output_type": "stream",
     "text": [
      "Enter a number:  7\n"
     ]
    },
    {
     "name": "stdout",
     "output_type": "stream",
     "text": [
      "7 is Positive\n"
     ]
    }
   ],
   "source": [
    "num = int(input(\"Enter a number: \"))\n",
    "\n",
    "if num <0:\n",
    "    print(num, \"is Negative\")\n",
    "elif num == 0:\n",
    "    print (num, \"is Zero\")\n",
    "else:\n",
    "    print(num, \"is Positive\")"
   ]
  },
  {
   "cell_type": "code",
   "execution_count": 21,
   "id": "89679ddf-b8b0-471d-9f63-40963562547f",
   "metadata": {},
   "outputs": [
    {
     "name": "stdin",
     "output_type": "stream",
     "text": [
      "Enter a number:  0\n"
     ]
    },
    {
     "name": "stdout",
     "output_type": "stream",
     "text": [
      "0 is Zero\n"
     ]
    }
   ],
   "source": [
    "num = int(input(\"Enter a number: \"))\n",
    "\n",
    "if num <0:\n",
    "    print(num, \"is Negative\")\n",
    "elif num == 0:\n",
    "    print (num, \"is Zero\")\n",
    "else:\n",
    "    print(num, \"is Positive\")"
   ]
  },
  {
   "cell_type": "code",
   "execution_count": 22,
   "id": "5b383f5d-e639-46dd-8b26-8cc3b1d28799",
   "metadata": {},
   "outputs": [
    {
     "name": "stdin",
     "output_type": "stream",
     "text": [
      "Enter a number:  -3\n"
     ]
    },
    {
     "name": "stdout",
     "output_type": "stream",
     "text": [
      "-3 is Negative\n"
     ]
    }
   ],
   "source": [
    "num = int(input(\"Enter a number: \"))\n",
    "\n",
    "if num <0:\n",
    "    print(num, \"is Negative\")\n",
    "elif num == 0:\n",
    "    print (num, \"is Zero\")\n",
    "else:\n",
    "    print(num, \"is Positive\")"
   ]
  },
  {
   "cell_type": "markdown",
   "id": "d58d0853-86a4-446c-964b-51d9fc0e51ed",
   "metadata": {},
   "source": [
    "##### 8. Write a program that takes the total bill amount at a restaurant and gives a discount based on the following conditions:\n",
    "\n",
    "If the bill is more than 500, apply a 20% discount.  \n",
    "If the bill is between 200 and 500, apply a 10% discount.  \n",
    "If the bill is less than 200, no discount."
   ]
  },
  {
   "cell_type": "code",
   "execution_count": 25,
   "id": "4639419d-cbdf-4ff8-8f51-9ebe10389015",
   "metadata": {},
   "outputs": [
    {
     "name": "stdin",
     "output_type": "stream",
     "text": [
      "Enter Total Bill Amount:  606\n"
     ]
    },
    {
     "name": "stdout",
     "output_type": "stream",
     "text": [
      "You got 20% discount\n"
     ]
    }
   ],
   "source": [
    "Total_bill = int(input(\"Enter Total Bill Amount: \"))\n",
    "\n",
    "if Total_bill >= 500:\n",
    "    print(\"You got 20% discount\")\n",
    "elif Total_bill >= 200 and Total_bill <= 500:\n",
    "    print(\"You got 10% discount\")\n",
    "else:\n",
    "    print(\"No discount\")"
   ]
  },
  {
   "cell_type": "code",
   "execution_count": 26,
   "id": "2bc9c889-7917-4420-8f2f-83bfe96c3822",
   "metadata": {},
   "outputs": [
    {
     "name": "stdin",
     "output_type": "stream",
     "text": [
      "Enter Total Bill Amount:  398\n"
     ]
    },
    {
     "name": "stdout",
     "output_type": "stream",
     "text": [
      "You got 10% discount\n"
     ]
    }
   ],
   "source": [
    "Total_bill = int(input(\"Enter Total Bill Amount: \"))\n",
    "\n",
    "if Total_bill >= 500:\n",
    "    print(\"You got 20% discount\")\n",
    "elif Total_bill >= 200 and Total_bill <= 500:\n",
    "    print(\"You got 10% discount\")\n",
    "else:\n",
    "    print(\"No discount\")"
   ]
  },
  {
   "cell_type": "code",
   "execution_count": 27,
   "id": "d85fc9a4-dbcf-4eaf-8029-cb21c1f68f42",
   "metadata": {},
   "outputs": [
    {
     "name": "stdin",
     "output_type": "stream",
     "text": [
      "Enter Total Bill Amount:  105\n"
     ]
    },
    {
     "name": "stdout",
     "output_type": "stream",
     "text": [
      "No discount\n"
     ]
    }
   ],
   "source": [
    "Total_bill = int(input(\"Enter Total Bill Amount: \"))\n",
    "\n",
    "if Total_bill >= 500:\n",
    "    print(\"You got 20% discount\")\n",
    "elif Total_bill >= 200 and Total_bill <= 500:\n",
    "    print(\"You got 10% discount\")\n",
    "else:\n",
    "    print(\"No discount\")"
   ]
  },
  {
   "cell_type": "markdown",
   "id": "a46e7445-89c3-49ff-8eb5-6af138899eae",
   "metadata": {},
   "source": [
    "***"
   ]
  },
  {
   "cell_type": "code",
   "execution_count": null,
   "id": "592c8bc9-d71a-45db-b0c2-d064fe512271",
   "metadata": {},
   "outputs": [],
   "source": []
  }
 ],
 "metadata": {
  "kernelspec": {
   "display_name": "Python 3 (ipykernel)",
   "language": "python",
   "name": "python3"
  },
  "language_info": {
   "codemirror_mode": {
    "name": "ipython",
    "version": 3
   },
   "file_extension": ".py",
   "mimetype": "text/x-python",
   "name": "python",
   "nbconvert_exporter": "python",
   "pygments_lexer": "ipython3",
   "version": "3.10.0"
  }
 },
 "nbformat": 4,
 "nbformat_minor": 5
}
