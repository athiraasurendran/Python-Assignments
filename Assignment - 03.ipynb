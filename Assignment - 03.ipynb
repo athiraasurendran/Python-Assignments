{
 "cells": [
  {
   "cell_type": "markdown",
   "id": "fe2ac426-9183-4a02-ae29-7ecf03b5711c",
   "metadata": {},
   "source": [
    "## <span style = color:brown;> Assignment - List </span>"
   ]
  },
  {
   "cell_type": "markdown",
   "id": "87381359-c25e-4146-9206-75679ac347dd",
   "metadata": {},
   "source": [
    "#### 1. Create a list of numbers from 1 to 10 and add it to a variable x."
   ]
  },
  {
   "cell_type": "code",
   "execution_count": 1,
   "id": "868bef12-236e-42fd-ba04-595ac7a71e85",
   "metadata": {},
   "outputs": [],
   "source": [
    "x = [1, 2, 3, 4, 5, 6, 7, 8, 9, 10]"
   ]
  },
  {
   "cell_type": "code",
   "execution_count": 2,
   "id": "4f7a5347-011a-458e-80c3-57f0fa67a361",
   "metadata": {},
   "outputs": [
    {
     "data": {
      "text/plain": [
       "[1, 2, 3, 4, 5, 6, 7, 8, 9, 10]"
      ]
     },
     "execution_count": 2,
     "metadata": {},
     "output_type": "execute_result"
    }
   ],
   "source": [
    "x"
   ]
  },
  {
   "cell_type": "markdown",
   "id": "3cb79f81-2ae6-4c44-a6a7-19841463425e",
   "metadata": {},
   "source": [
    "#### 2. Add the number 11 at the end of the list."
   ]
  },
  {
   "cell_type": "code",
   "execution_count": 3,
   "id": "4d14f701-7568-4afe-be25-0d64c64274c8",
   "metadata": {},
   "outputs": [],
   "source": [
    "x.append(11)"
   ]
  },
  {
   "cell_type": "code",
   "execution_count": 4,
   "id": "146d5f20-1f5e-410e-b401-98a174ef6f89",
   "metadata": {},
   "outputs": [
    {
     "data": {
      "text/plain": [
       "[1, 2, 3, 4, 5, 6, 7, 8, 9, 10, 11]"
      ]
     },
     "execution_count": 4,
     "metadata": {},
     "output_type": "execute_result"
    }
   ],
   "source": [
    "x"
   ]
  },
  {
   "cell_type": "markdown",
   "id": "d991ecaa-a59b-4032-97e9-9053b171dd7b",
   "metadata": {},
   "source": [
    "#### 3. Insert the number 100 at index 2 in the list [1, 2, 3, 4, 5]."
   ]
  },
  {
   "cell_type": "code",
   "execution_count": 5,
   "id": "4356d2b8-9547-4d97-8135-a6479197b03d",
   "metadata": {},
   "outputs": [],
   "source": [
    "x.insert(2, 100)"
   ]
  },
  {
   "cell_type": "code",
   "execution_count": 6,
   "id": "98ff11bc-352c-4635-8ce2-7b36d99f7199",
   "metadata": {},
   "outputs": [
    {
     "data": {
      "text/plain": [
       "[1, 2, 100, 3, 4, 5, 6, 7, 8, 9, 10, 11]"
      ]
     },
     "execution_count": 6,
     "metadata": {},
     "output_type": "execute_result"
    }
   ],
   "source": [
    "x"
   ]
  },
  {
   "cell_type": "markdown",
   "id": "d87a1eac-5d41-4eab-8fe4-a1d6f9df9c30",
   "metadata": {},
   "source": [
    "#### 4. Insert the number 5.5 between 5 and 6.\n"
   ]
  },
  {
   "cell_type": "code",
   "execution_count": 7,
   "id": "6031ee87-47f1-4bc2-8230-0c0e4ffe69ca",
   "metadata": {},
   "outputs": [],
   "source": [
    "x.insert(6, 5.5)"
   ]
  },
  {
   "cell_type": "code",
   "execution_count": 8,
   "id": "70e5ac16-c624-431a-8603-79e04ba215ae",
   "metadata": {},
   "outputs": [
    {
     "data": {
      "text/plain": [
       "[1, 2, 100, 3, 4, 5, 5.5, 6, 7, 8, 9, 10, 11]"
      ]
     },
     "execution_count": 8,
     "metadata": {},
     "output_type": "execute_result"
    }
   ],
   "source": [
    "x"
   ]
  },
  {
   "cell_type": "markdown",
   "id": "af1795f4-1de8-458c-8f45-90baea8260ff",
   "metadata": {},
   "source": [
    "#### 5. Remove the number 10 from the list.\n"
   ]
  },
  {
   "cell_type": "code",
   "execution_count": 9,
   "id": "08bd0ec9-36e8-4fcc-a1c9-8cb915c77554",
   "metadata": {},
   "outputs": [],
   "source": [
    "x.remove(10)"
   ]
  },
  {
   "cell_type": "code",
   "execution_count": 10,
   "id": "1d71ccb8-f9a6-4bc7-b478-30baccc5fb58",
   "metadata": {},
   "outputs": [
    {
     "data": {
      "text/plain": [
       "[1, 2, 100, 3, 4, 5, 5.5, 6, 7, 8, 9, 11]"
      ]
     },
     "execution_count": 10,
     "metadata": {},
     "output_type": "execute_result"
    }
   ],
   "source": [
    "x"
   ]
  },
  {
   "cell_type": "markdown",
   "id": "a1809293-79a0-4d92-9f28-5c37cc7e097f",
   "metadata": {},
   "source": [
    "#### 6. Reverse the list.\n"
   ]
  },
  {
   "cell_type": "code",
   "execution_count": 11,
   "id": "bc6b75e3-4118-47f8-8dd5-2f90186066a4",
   "metadata": {},
   "outputs": [],
   "source": [
    "x.reverse()"
   ]
  },
  {
   "cell_type": "code",
   "execution_count": 12,
   "id": "07c077e4-3312-43b6-a396-c97b93018af7",
   "metadata": {},
   "outputs": [
    {
     "data": {
      "text/plain": [
       "[11, 9, 8, 7, 6, 5.5, 5, 4, 3, 100, 2, 1]"
      ]
     },
     "execution_count": 12,
     "metadata": {},
     "output_type": "execute_result"
    }
   ],
   "source": [
    "x"
   ]
  },
  {
   "cell_type": "markdown",
   "id": "3f23ba1e-4376-4258-a38b-e92807e2fe48",
   "metadata": {},
   "source": [
    "#### 7. Sort the list in ascending order."
   ]
  },
  {
   "cell_type": "code",
   "execution_count": 13,
   "id": "80965a00-3b8c-44ee-844f-f80a3aba1a80",
   "metadata": {},
   "outputs": [],
   "source": [
    "x.sort()"
   ]
  },
  {
   "cell_type": "code",
   "execution_count": 14,
   "id": "eac0aca2-8042-46fb-9540-7142eb57676e",
   "metadata": {},
   "outputs": [
    {
     "data": {
      "text/plain": [
       "[1, 2, 3, 4, 5, 5.5, 6, 7, 8, 9, 11, 100]"
      ]
     },
     "execution_count": 14,
     "metadata": {},
     "output_type": "execute_result"
    }
   ],
   "source": [
    "x"
   ]
  },
  {
   "cell_type": "markdown",
   "id": "f8910ffb-b21f-41c0-ae87-75c4d133b7c3",
   "metadata": {},
   "source": [
    "#### 8. Given two lists [1, 2, 3] and [4, 5, 6], concatenate them into a single list."
   ]
  },
  {
   "cell_type": "code",
   "execution_count": 15,
   "id": "62223e11-f558-4eca-831d-6e80a2391b01",
   "metadata": {},
   "outputs": [
    {
     "data": {
      "text/plain": [
       "[1, 2, 3, 4, 5, 6]"
      ]
     },
     "execution_count": 15,
     "metadata": {},
     "output_type": "execute_result"
    }
   ],
   "source": [
    "a = [1, 2, 3]\n",
    "b = [4, 5, 6]\n",
    "\n",
    "a + b"
   ]
  },
  {
   "cell_type": "markdown",
   "id": "6e4174b5-1aaf-462e-ab4d-e5ab9aceb11a",
   "metadata": {},
   "source": [
    "#### 9. Given a list [1, 2, 3], multiply its elements by 3 to repeat the list."
   ]
  },
  {
   "cell_type": "code",
   "execution_count": 16,
   "id": "77ac8630-fb36-4bfc-9ad9-09ee2358aeab",
   "metadata": {},
   "outputs": [
    {
     "data": {
      "text/plain": [
       "[1, 2, 3, 1, 2, 3, 1, 2, 3]"
      ]
     },
     "execution_count": 16,
     "metadata": {},
     "output_type": "execute_result"
    }
   ],
   "source": [
    "my_list = [1, 2, 3] * 3\n",
    "\n",
    "my_list"
   ]
  },
  {
   "cell_type": "markdown",
   "id": "95ef203b-fe30-44f0-b1b2-08c2511a1d88",
   "metadata": {},
   "source": [
    "#### 10. Count the number of times 2 appears in the list [1, 2, 3, 2, 5, 2]."
   ]
  },
  {
   "cell_type": "code",
   "execution_count": 17,
   "id": "1702bac8-7eef-44fa-a37e-205bee5572da",
   "metadata": {},
   "outputs": [
    {
     "data": {
      "text/plain": [
       "3"
      ]
     },
     "execution_count": 17,
     "metadata": {},
     "output_type": "execute_result"
    }
   ],
   "source": [
    "my_list.count(2)"
   ]
  },
  {
   "cell_type": "markdown",
   "id": "b1dbc19e-63a3-4cdc-9b31-a1209ef5ea7a",
   "metadata": {},
   "source": [
    "#### 11. Find the minimum and maximum values in the list [10, 20, 5, 30, 15]."
   ]
  },
  {
   "cell_type": "code",
   "execution_count": 23,
   "id": "a46eb74f-9e61-468b-a9a0-a614003ccf4d",
   "metadata": {},
   "outputs": [
    {
     "name": "stdout",
     "output_type": "stream",
     "text": [
      "min value:  5\n",
      "max value:  30\n"
     ]
    }
   ],
   "source": [
    "my_list = [10, 20, 5, 30, 15]\n",
    "\n",
    "min_value = min(my_list)\n",
    "max_value = max(my_list)\n",
    "\n",
    "print(\"min value: \", min_value)\n",
    "print(\"max value: \", max_value)"
   ]
  },
  {
   "cell_type": "markdown",
   "id": "45202ff2-5a78-4ae9-9ba5-7adbcb17b447",
   "metadata": {},
   "source": [
    "#### 12. Slice the list [1, 2, 3, 4, 5, 6] to get the sublist [2, 3, 4]."
   ]
  },
  {
   "cell_type": "code",
   "execution_count": 25,
   "id": "f24a1cc3-07e9-4f15-966d-f24b2512fd81",
   "metadata": {},
   "outputs": [
    {
     "data": {
      "text/plain": [
       "[2, 3, 4]"
      ]
     },
     "execution_count": 25,
     "metadata": {},
     "output_type": "execute_result"
    }
   ],
   "source": [
    "my_list = [1, 2, 3, 4, 5, 6]\n",
    "\n",
    "my_list[1:4]"
   ]
  },
  {
   "cell_type": "markdown",
   "id": "1945ca5a-8aa5-43ef-8180-b24d8c815535",
   "metadata": {},
   "source": [
    "#### 13. Given the list [\"Python\", \"is\", \"fun\"], join the elements into a single string separated by spaces."
   ]
  },
  {
   "cell_type": "code",
   "execution_count": 47,
   "id": "3e07e6dd-a116-486a-8e75-fe62424ae2be",
   "metadata": {},
   "outputs": [],
   "source": [
    "# Using join() to create a single string, separated by spaces"
   ]
  },
  {
   "cell_type": "code",
   "execution_count": 29,
   "id": "97953fc3-4818-47b5-8dc7-46f4ea5253c3",
   "metadata": {},
   "outputs": [
    {
     "data": {
      "text/plain": [
       "'Python is fun'"
      ]
     },
     "execution_count": 29,
     "metadata": {},
     "output_type": "execute_result"
    }
   ],
   "source": [
    "text = (\"Python\", \"is\", \"fun\")\n",
    "\n",
    "sentence = \" \".join(text)\n",
    "\n",
    "sentence"
   ]
  },
  {
   "cell_type": "markdown",
   "id": "e994b7e0-6711-47df-96a7-3ef1be7923f6",
   "metadata": {},
   "source": [
    "#### 14. Create a list from the string \"hello\" where each character becomes an element of the list."
   ]
  },
  {
   "cell_type": "code",
   "execution_count": 33,
   "id": "2ef4cb21-d087-4995-b716-c1cd374c2094",
   "metadata": {},
   "outputs": [
    {
     "data": {
      "text/plain": [
       "'hello'"
      ]
     },
     "execution_count": 33,
     "metadata": {},
     "output_type": "execute_result"
    }
   ],
   "source": [
    "my_string = \"hello\"\n",
    "my_string"
   ]
  },
  {
   "cell_type": "code",
   "execution_count": 35,
   "id": "d02b018e-8f17-4ac0-9b81-56867c8b489c",
   "metadata": {},
   "outputs": [
    {
     "name": "stdout",
     "output_type": "stream",
     "text": [
      "['h', 'e', 'l', 'l', 'o']\n"
     ]
    }
   ],
   "source": [
    "letters = list(my_string)\n",
    "print(letters)"
   ]
  },
  {
   "cell_type": "markdown",
   "id": "9d198c6c-0858-40e8-95ad-aa45d680762e",
   "metadata": {},
   "source": [
    "#### 15. Find the number of elements in the list [1, 2, 3, 4, 5]."
   ]
  },
  {
   "cell_type": "code",
   "execution_count": 37,
   "id": "ab23a57e-68a0-4a52-a095-a2d67828fc8e",
   "metadata": {},
   "outputs": [
    {
     "data": {
      "text/plain": [
       "5"
      ]
     },
     "execution_count": 37,
     "metadata": {},
     "output_type": "execute_result"
    }
   ],
   "source": [
    "my_list = [1, 2, 3, 4, 5]\n",
    "\n",
    "len(my_list)"
   ]
  },
  {
   "cell_type": "markdown",
   "id": "a76b5815-44af-4509-84aa-8cdc5b4a5ba0",
   "metadata": {},
   "source": [
    "#### 16. Check if the element 3 exists in the list [1, 2, 3, 4, 5]."
   ]
  },
  {
   "cell_type": "code",
   "execution_count": 51,
   "id": "d8211fe0-a880-42a0-9f61-ec23c37ed50d",
   "metadata": {},
   "outputs": [
    {
     "name": "stdout",
     "output_type": "stream",
     "text": [
      "3 exists in the list\n"
     ]
    }
   ],
   "source": [
    "my_list = [1, 2, 3, 4, 5]\n",
    "\n",
    "if 3 in my_list:\n",
    "    print(\"3 exists in the list\")\n",
    "else:\n",
    "    print(\"3 does not exists in the list\")"
   ]
  },
  {
   "cell_type": "code",
   "execution_count": null,
   "id": "a327aa01-3a58-43cb-aa29-aedf059b03d9",
   "metadata": {},
   "outputs": [],
   "source": []
  }
 ],
 "metadata": {
  "kernelspec": {
   "display_name": "Python 3 (ipykernel)",
   "language": "python",
   "name": "python3"
  },
  "language_info": {
   "codemirror_mode": {
    "name": "ipython",
    "version": 3
   },
   "file_extension": ".py",
   "mimetype": "text/x-python",
   "name": "python",
   "nbconvert_exporter": "python",
   "pygments_lexer": "ipython3",
   "version": "3.10.0"
  }
 },
 "nbformat": 4,
 "nbformat_minor": 5
}
