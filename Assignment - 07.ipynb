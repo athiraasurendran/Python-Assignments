{
 "cells": [
  {
   "cell_type": "markdown",
   "id": "91cd0f5d-fca8-48aa-9cfa-699bbc59eeb5",
   "metadata": {},
   "source": [
    "## <span style = color:brown;> Assignment - While Loop</span>"
   ]
  },
  {
   "cell_type": "markdown",
   "id": "dde2601c-cc9c-499b-acd0-5bb582f28718",
   "metadata": {},
   "source": [
    "#### 1. Write a Python program using a while loop to print numbers from 1 to 10."
   ]
  },
  {
   "cell_type": "code",
   "execution_count": 1,
   "id": "c8a88554-6acb-471d-8817-877b48c56b6f",
   "metadata": {},
   "outputs": [
    {
     "name": "stdout",
     "output_type": "stream",
     "text": [
      "1\n",
      "2\n",
      "3\n",
      "4\n",
      "5\n",
      "6\n",
      "7\n",
      "8\n",
      "9\n",
      "10\n"
     ]
    }
   ],
   "source": [
    "num = 1\n",
    "\n",
    "while num <= 10:\n",
    "    print(num)\n",
    "    num += 1"
   ]
  },
  {
   "cell_type": "markdown",
   "id": "74a5ad3a-77a4-432f-be37-b72fe5bfd12e",
   "metadata": {},
   "source": [
    "#### 2. Write a program that takes an integer n and prints all odd numbers between 1 and N using a while loop."
   ]
  },
  {
   "cell_type": "code",
   "execution_count": 2,
   "id": "40933efd-35ba-47e7-ae46-e6177d5c6f0b",
   "metadata": {},
   "outputs": [
    {
     "name": "stdin",
     "output_type": "stream",
     "text": [
      "Enter a number:  25\n"
     ]
    },
    {
     "name": "stdout",
     "output_type": "stream",
     "text": [
      "1\n",
      "3\n",
      "5\n",
      "7\n",
      "9\n",
      "11\n",
      "13\n",
      "15\n",
      "17\n",
      "19\n",
      "21\n",
      "23\n",
      "25\n"
     ]
    }
   ],
   "source": [
    "n = int(input(\"Enter a number: \"))\n",
    "num = 1\n",
    "\n",
    "while num <= n:\n",
    "    if num % 2 != 0:\n",
    "        print(num)\n",
    "    num += 1"
   ]
  },
  {
   "cell_type": "markdown",
   "id": "0dd6b8f8-3d5d-4d87-9483-343bc75d9599",
   "metadata": {},
   "source": [
    "#### 3. Write a program that takes an integer input n and calculates the sum of all natural numbers from 1 to n using a while loop."
   ]
  },
  {
   "cell_type": "code",
   "execution_count": 3,
   "id": "77b7b16c-f34c-4ae7-9f06-5d4f7258842b",
   "metadata": {},
   "outputs": [
    {
     "name": "stdin",
     "output_type": "stream",
     "text": [
      "Enter a number:  3\n"
     ]
    },
    {
     "name": "stdout",
     "output_type": "stream",
     "text": [
      "sum:  6\n"
     ]
    }
   ],
   "source": [
    "n = int(input(\"Enter a number: \"))\n",
    "\n",
    "sum = 0\n",
    "i = 1\n",
    "\n",
    "while i <= n:\n",
    "    sum += i\n",
    "    i += 1\n",
    "print(\"sum: \", sum)"
   ]
  },
  {
   "cell_type": "markdown",
   "id": "346de3c6-a4e2-42be-a6e0-e962b1c2c189",
   "metadata": {},
   "source": [
    "#### 4. Write a program that counts how many digits are in a given number using a while loop."
   ]
  },
  {
   "cell_type": "code",
   "execution_count": 4,
   "id": "d7f59f23-1c75-44e9-b043-d0aadcecd0ba",
   "metadata": {},
   "outputs": [
    {
     "name": "stdin",
     "output_type": "stream",
     "text": [
      "Enter a number:  458963217\n"
     ]
    },
    {
     "name": "stdout",
     "output_type": "stream",
     "text": [
      "Number of Digits:  9\n"
     ]
    }
   ],
   "source": [
    "num = int(input(\"Enter a number: \"))\n",
    "\n",
    "count = 0\n",
    "\n",
    "while num > 0:\n",
    "    num = num // 10\n",
    "    count += 1\n",
    "print(\"Number of Digits: \", count)"
   ]
  },
  {
   "cell_type": "markdown",
   "id": "b86c8cad-d1f2-429b-85d9-14f60eeaf652",
   "metadata": {},
   "source": [
    "#### 5. Write a program to find the factorial of a given number using a while loop"
   ]
  },
  {
   "cell_type": "code",
   "execution_count": 5,
   "id": "c4b12c4b-19eb-45d0-a241-6706c0b93d73",
   "metadata": {},
   "outputs": [
    {
     "name": "stdin",
     "output_type": "stream",
     "text": [
      "Enter a number:  4\n"
     ]
    },
    {
     "name": "stdout",
     "output_type": "stream",
     "text": [
      "factorial of  4 is 24\n"
     ]
    }
   ],
   "source": [
    "num = int(input(\"Enter a number: \"))\n",
    "\n",
    "factorial = 1\n",
    "i = 1\n",
    "\n",
    "while i <= num:\n",
    "    factorial *= i\n",
    "    i += 1\n",
    "print(\"factorial of \", num, \"is\", factorial)"
   ]
  },
  {
   "cell_type": "markdown",
   "id": "41814e11-4a24-4d90-884f-e7162de70ad8",
   "metadata": {},
   "source": [
    "***"
   ]
  }
 ],
 "metadata": {
  "kernelspec": {
   "display_name": "Python 3 (ipykernel)",
   "language": "python",
   "name": "python3"
  },
  "language_info": {
   "codemirror_mode": {
    "name": "ipython",
    "version": 3
   },
   "file_extension": ".py",
   "mimetype": "text/x-python",
   "name": "python",
   "nbconvert_exporter": "python",
   "pygments_lexer": "ipython3",
   "version": "3.10.0"
  }
 },
 "nbformat": 4,
 "nbformat_minor": 5
}
