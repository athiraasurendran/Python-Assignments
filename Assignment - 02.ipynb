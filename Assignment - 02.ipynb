{
 "cells": [
  {
   "cell_type": "markdown",
   "id": "fe219fff-2eba-474b-9c9d-58889ce261f8",
   "metadata": {},
   "source": [
    "## <span style = color:brown;> Assignment - String </span>"
   ]
  },
  {
   "cell_type": "markdown",
   "id": "56034ee8-70ac-444c-bb42-921a2eda9ae7",
   "metadata": {},
   "source": [
    "#### 1. Define a string x with value \"Python is a simple, poweful programming language\" and another named y with value \"Its's used for web development, data analysis, and more\" and print both variables"
   ]
  },
  {
   "cell_type": "code",
   "execution_count": 1,
   "id": "d0aee4bc-d8c7-4cf4-bebb-049e0f2cbf40",
   "metadata": {},
   "outputs": [],
   "source": [
    "x = \"Python is a simple, powerful programming language\"\n",
    "y = \"It's used for web development, data analysis, and more\""
   ]
  },
  {
   "cell_type": "code",
   "execution_count": 2,
   "id": "77eaf75c-7d3e-4b8c-a998-b164d8fbc202",
   "metadata": {},
   "outputs": [
    {
     "name": "stdout",
     "output_type": "stream",
     "text": [
      "Python is a simple, powerful programming language\n",
      "It's used for web development, data analysis, and more\n"
     ]
    }
   ],
   "source": [
    "print(x)\n",
    "print(y)"
   ]
  },
  {
   "cell_type": "markdown",
   "id": "b9af5048-fdc0-4986-9478-5970aeb30216",
   "metadata": {},
   "source": [
    "#### 2. Split the variable x based on whitespace"
   ]
  },
  {
   "cell_type": "code",
   "execution_count": 3,
   "id": "61f4bc10-3d08-45c5-bede-02ee68e6b575",
   "metadata": {},
   "outputs": [
    {
     "data": {
      "text/plain": [
       "['Python', 'is', 'a', 'simple,', 'powerful', 'programming', 'language']"
      ]
     },
     "execution_count": 3,
     "metadata": {},
     "output_type": "execute_result"
    }
   ],
   "source": [
    "x.split(\" \")"
   ]
  },
  {
   "cell_type": "markdown",
   "id": "77e039c1-d3f7-4be7-ace7-90cb6b42bd20",
   "metadata": {},
   "source": [
    "#### 3. Split the variable x based on the letter 'o'"
   ]
  },
  {
   "cell_type": "code",
   "execution_count": 4,
   "id": "1c617f91-d012-426c-9e64-9f24ee15aa00",
   "metadata": {},
   "outputs": [
    {
     "data": {
      "text/plain": [
       "['Pyth', 'n is a simple, p', 'werful pr', 'gramming language']"
      ]
     },
     "execution_count": 4,
     "metadata": {},
     "output_type": "execute_result"
    }
   ],
   "source": [
    "x.split(\"o\")"
   ]
  },
  {
   "cell_type": "markdown",
   "id": "ed2500c8-56f6-4701-bd40-d93320c12921",
   "metadata": {},
   "source": [
    "#### 4. Get 'development' from the variable y and store it another variable a"
   ]
  },
  {
   "cell_type": "code",
   "execution_count": 5,
   "id": "62ea1af4-5d40-461f-ae75-eadf34166356",
   "metadata": {},
   "outputs": [],
   "source": [
    "a = y[18:29]"
   ]
  },
  {
   "cell_type": "code",
   "execution_count": 6,
   "id": "7750c197-313f-4f65-80bb-b90b611b80ab",
   "metadata": {},
   "outputs": [
    {
     "data": {
      "text/plain": [
       "'development'"
      ]
     },
     "execution_count": 6,
     "metadata": {},
     "output_type": "execute_result"
    }
   ],
   "source": [
    "a"
   ]
  },
  {
   "cell_type": "markdown",
   "id": "07fda0a5-4f75-4496-bb3b-fe94dae33cef",
   "metadata": {},
   "source": [
    "#### 5. Reverse the string a"
   ]
  },
  {
   "cell_type": "code",
   "execution_count": 7,
   "id": "2c3cb252-e656-4c16-b060-7dd0e50b3dad",
   "metadata": {},
   "outputs": [],
   "source": [
    "a = a[::-1]"
   ]
  },
  {
   "cell_type": "code",
   "execution_count": 8,
   "id": "a52e461b-1a31-45f2-b865-68f7a1ff0d15",
   "metadata": {},
   "outputs": [
    {
     "data": {
      "text/plain": [
       "'tnempoleved'"
      ]
     },
     "execution_count": 8,
     "metadata": {},
     "output_type": "execute_result"
    }
   ],
   "source": [
    "a"
   ]
  },
  {
   "cell_type": "markdown",
   "id": "f4ec4d02-ec74-490c-a8a3-dfe6ae80e31c",
   "metadata": {},
   "source": [
    "#### 6. Get the output \"Hlwl\" from the variable b"
   ]
  },
  {
   "cell_type": "code",
   "execution_count": 12,
   "id": "2095a291-9b82-441b-a96c-ee6759326c0d",
   "metadata": {},
   "outputs": [
    {
     "data": {
      "text/plain": [
       "'Hello World'"
      ]
     },
     "execution_count": 12,
     "metadata": {},
     "output_type": "execute_result"
    }
   ],
   "source": [
    "b = \"Hello World\"\n",
    "\n",
    "b"
   ]
  },
  {
   "cell_type": "code",
   "execution_count": 13,
   "id": "ed267cfc-c9df-4ae2-a93c-3be0ad39572c",
   "metadata": {},
   "outputs": [],
   "source": [
    "output = b[0] + b[2] + b[6] + b[9]"
   ]
  },
  {
   "cell_type": "code",
   "execution_count": 14,
   "id": "20139605-e36d-4d36-a52c-66abe66bc859",
   "metadata": {},
   "outputs": [
    {
     "data": {
      "text/plain": [
       "'HlWl'"
      ]
     },
     "execution_count": 14,
     "metadata": {},
     "output_type": "execute_result"
    }
   ],
   "source": [
    "output"
   ]
  },
  {
   "cell_type": "markdown",
   "id": "50c8c483-7b85-43d0-b6c2-473468476b6c",
   "metadata": {},
   "source": [
    "#### 7. Create a new string with value = \"Hello world Python is a simple, powerful programming language\" using string concatenation"
   ]
  },
  {
   "cell_type": "code",
   "execution_count": 15,
   "id": "88f327d4-5f32-4256-aa47-890db1acbbdd",
   "metadata": {},
   "outputs": [],
   "source": [
    "a = \"Hello world Python is a simple\"\n",
    "b = \"powerful programming language\""
   ]
  },
  {
   "cell_type": "markdown",
   "id": "303eb248-aa70-4763-8a2a-f1c2b6465afd",
   "metadata": {},
   "source": [
    "***"
   ]
  },
  {
   "cell_type": "code",
   "execution_count": 16,
   "id": "ea74025c-878f-4ca1-8865-7b100ab20dbd",
   "metadata": {},
   "outputs": [
    {
     "data": {
      "text/plain": [
       "'Hello world Python is a simple, powerful programming language'"
      ]
     },
     "execution_count": 16,
     "metadata": {},
     "output_type": "execute_result"
    }
   ],
   "source": [
    "a + \", \" + b"
   ]
  },
  {
   "cell_type": "code",
   "execution_count": null,
   "id": "bf1051d7-c8a1-401a-bc42-cd376d1b5e94",
   "metadata": {},
   "outputs": [],
   "source": []
  }
 ],
 "metadata": {
  "kernelspec": {
   "display_name": "Python 3 (ipykernel)",
   "language": "python",
   "name": "python3"
  },
  "language_info": {
   "codemirror_mode": {
    "name": "ipython",
    "version": 3
   },
   "file_extension": ".py",
   "mimetype": "text/x-python",
   "name": "python",
   "nbconvert_exporter": "python",
   "pygments_lexer": "ipython3",
   "version": "3.10.0"
  }
 },
 "nbformat": 4,
 "nbformat_minor": 5
}
