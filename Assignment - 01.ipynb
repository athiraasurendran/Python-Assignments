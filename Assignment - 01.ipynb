{
 "cells": [
  {
   "cell_type": "markdown",
   "id": "ee4e86d8-3cbe-4a52-8710-d034b078d8f0",
   "metadata": {},
   "source": [
    "## <span style=color:Brown;> Assignment - Integers & Float </span>"
   ]
  },
  {
   "cell_type": "markdown",
   "id": "0af84df6-5ead-4e14-af1b-26e5dc934ada",
   "metadata": {},
   "source": [
    "#### 1. Assign the value 10 to a variable named x and then assign the value 25 to another variable named y. Print both variables."
   ]
  },
  {
   "cell_type": "code",
   "execution_count": 1,
   "id": "82724ebc-44cc-4957-8ed3-2f4abad818fb",
   "metadata": {},
   "outputs": [],
   "source": [
    "x = 10\n",
    "y = 25"
   ]
  },
  {
   "cell_type": "code",
   "execution_count": 2,
   "id": "f1d28ca5-2414-4fce-9482-e7293411929e",
   "metadata": {},
   "outputs": [
    {
     "name": "stdout",
     "output_type": "stream",
     "text": [
      "10\n",
      "25\n"
     ]
    }
   ],
   "source": [
    "print(x)\n",
    "print(y)"
   ]
  },
  {
   "cell_type": "markdown",
   "id": "2e9d92a9-c908-42e7-9961-a930e5fb84d6",
   "metadata": {},
   "source": [
    "#### 2. Sum x and y"
   ]
  },
  {
   "cell_type": "code",
   "execution_count": 3,
   "id": "46bf2018-5fd3-434a-aaa6-4db148c94092",
   "metadata": {},
   "outputs": [
    {
     "data": {
      "text/plain": [
       "35"
      ]
     },
     "execution_count": 3,
     "metadata": {},
     "output_type": "execute_result"
    }
   ],
   "source": [
    "x + y "
   ]
  },
  {
   "cell_type": "markdown",
   "id": "53f68dce-79f9-4c62-aa63-2ac37219c843",
   "metadata": {},
   "source": [
    "#### 3. Subtract x from y"
   ]
  },
  {
   "cell_type": "code",
   "execution_count": 4,
   "id": "06921d94-cd82-4659-ace7-bac726a69bc9",
   "metadata": {},
   "outputs": [
    {
     "data": {
      "text/plain": [
       "-15"
      ]
     },
     "execution_count": 4,
     "metadata": {},
     "output_type": "execute_result"
    }
   ],
   "source": [
    "x - y"
   ]
  },
  {
   "cell_type": "markdown",
   "id": "f6d086ce-62f7-43a2-b8c7-07e6343da8d2",
   "metadata": {},
   "source": [
    "#### 4. Multiply x by y"
   ]
  },
  {
   "cell_type": "code",
   "execution_count": 5,
   "id": "778d1d0f-222d-47b8-a200-4a69ed40af25",
   "metadata": {},
   "outputs": [
    {
     "data": {
      "text/plain": [
       "250"
      ]
     },
     "execution_count": 5,
     "metadata": {},
     "output_type": "execute_result"
    }
   ],
   "source": [
    "x * y"
   ]
  },
  {
   "cell_type": "markdown",
   "id": "13a4c95f-dd34-4636-9438-7cbdf3f06396",
   "metadata": {},
   "source": [
    "#### 5. Divide y by x"
   ]
  },
  {
   "cell_type": "code",
   "execution_count": 6,
   "id": "51d33747-89aa-44f3-818f-89b31892990c",
   "metadata": {},
   "outputs": [
    {
     "data": {
      "text/plain": [
       "2.5"
      ]
     },
     "execution_count": 6,
     "metadata": {},
     "output_type": "execute_result"
    }
   ],
   "source": [
    "y / x"
   ]
  },
  {
   "cell_type": "markdown",
   "id": "595ac8a6-27a5-487a-94cf-697c14aa0422",
   "metadata": {},
   "source": [
    "#### 6. Divide x by y"
   ]
  },
  {
   "cell_type": "code",
   "execution_count": 7,
   "id": "ddc02b8a-f12d-43aa-b650-597e097049df",
   "metadata": {},
   "outputs": [
    {
     "data": {
      "text/plain": [
       "0.4"
      ]
     },
     "execution_count": 7,
     "metadata": {},
     "output_type": "execute_result"
    }
   ],
   "source": [
    "x / y"
   ]
  },
  {
   "cell_type": "markdown",
   "id": "2d52bf82-9aaa-4d8e-beff-52c8fcc9cdbb",
   "metadata": {},
   "source": [
    "#### 7. What is the operation that has to be done to get only integer while doing y/x"
   ]
  },
  {
   "cell_type": "code",
   "execution_count": 8,
   "id": "d675f03f-45ee-44f1-b27b-224c2672ba31",
   "metadata": {},
   "outputs": [
    {
     "data": {
      "text/plain": [
       "2"
      ]
     },
     "execution_count": 8,
     "metadata": {},
     "output_type": "execute_result"
    }
   ],
   "source": [
    "y // x"
   ]
  },
  {
   "cell_type": "markdown",
   "id": "5bfc1351-4ce0-419e-98b6-eacd8fae32fe",
   "metadata": {},
   "source": [
    "#### 8. What is the remainder when y is divided by x"
   ]
  },
  {
   "cell_type": "code",
   "execution_count": 9,
   "id": "88ea64df-551d-46d6-ad1a-270e7ca29b2d",
   "metadata": {},
   "outputs": [
    {
     "data": {
      "text/plain": [
       "5"
      ]
     },
     "execution_count": 9,
     "metadata": {},
     "output_type": "execute_result"
    }
   ],
   "source": [
    "y % x"
   ]
  },
  {
   "cell_type": "markdown",
   "id": "3e363814-5f43-4d8b-a6ad-771533356a1d",
   "metadata": {},
   "source": [
    "#### 9. Find out the datatype of the variable named my_variable"
   ]
  },
  {
   "cell_type": "code",
   "execution_count": 10,
   "id": "55c67280-3f19-4b31-8660-5aecbfc41a55",
   "metadata": {},
   "outputs": [],
   "source": [
    "my_variable = 29.997"
   ]
  },
  {
   "cell_type": "code",
   "execution_count": 11,
   "id": "8a7d23fc-cb1f-4b6e-a0c4-043c10e7f80c",
   "metadata": {},
   "outputs": [
    {
     "data": {
      "text/plain": [
       "float"
      ]
     },
     "execution_count": 11,
     "metadata": {},
     "output_type": "execute_result"
    }
   ],
   "source": [
    "type(my_variable)"
   ]
  },
  {
   "cell_type": "code",
   "execution_count": null,
   "id": "8fada6c7-daf5-4088-b254-d09c14c46c3f",
   "metadata": {},
   "outputs": [],
   "source": []
  }
 ],
 "metadata": {
  "kernelspec": {
   "display_name": "Python 3 (ipykernel)",
   "language": "python",
   "name": "python3"
  },
  "language_info": {
   "codemirror_mode": {
    "name": "ipython",
    "version": 3
   },
   "file_extension": ".py",
   "mimetype": "text/x-python",
   "name": "python",
   "nbconvert_exporter": "python",
   "pygments_lexer": "ipython3",
   "version": "3.10.0"
  }
 },
 "nbformat": 4,
 "nbformat_minor": 5
}
