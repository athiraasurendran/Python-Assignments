{
 "cells": [
  {
   "cell_type": "markdown",
   "id": "9e45bd8d-5870-4b39-9112-475f16af1875",
   "metadata": {},
   "source": [
    "## <span style = color:brown;> Assignment - Tuple</span>"
   ]
  },
  {
   "cell_type": "markdown",
   "id": "313e6814-7ecb-494b-8893-677f6b82b8ea",
   "metadata": {},
   "source": [
    "#### 1. Create a tuple x with the elements 1, 2, 3, 4, 5."
   ]
  },
  {
   "cell_type": "code",
   "execution_count": 1,
   "id": "76311aad-ba77-4456-b555-16d8dc3ca631",
   "metadata": {},
   "outputs": [],
   "source": [
    " x = (1, 2, 3, 4, 5)"
   ]
  },
  {
   "cell_type": "code",
   "execution_count": 2,
   "id": "d7dae368-c238-4251-8518-b6752ba7e409",
   "metadata": {},
   "outputs": [
    {
     "data": {
      "text/plain": [
       "(1, 2, 3, 4, 5)"
      ]
     },
     "execution_count": 2,
     "metadata": {},
     "output_type": "execute_result"
    }
   ],
   "source": [
    "x"
   ]
  },
  {
   "cell_type": "markdown",
   "id": "1e6ff082-3f1d-4eed-af39-3969f6de6822",
   "metadata": {},
   "source": [
    "#### 2. Given a tuple x, access the element at index 2."
   ]
  },
  {
   "cell_type": "code",
   "execution_count": 3,
   "id": "3b96d2aa-f796-4e4b-ba24-d58f8bcf91eb",
   "metadata": {},
   "outputs": [
    {
     "data": {
      "text/plain": [
       "3"
      ]
     },
     "execution_count": 3,
     "metadata": {},
     "output_type": "execute_result"
    }
   ],
   "source": [
    "x[2]"
   ]
  },
  {
   "cell_type": "markdown",
   "id": "8a4ce53c-05aa-457c-8bcf-095bc18e8884",
   "metadata": {},
   "source": [
    "#### 3. Given the tuple x, slice it to get the sub-tuple (2, 3, 4)."
   ]
  },
  {
   "cell_type": "code",
   "execution_count": 4,
   "id": "7633f330-ee92-4ddf-9cea-54a331d8dcf6",
   "metadata": {},
   "outputs": [
    {
     "data": {
      "text/plain": [
       "(2, 3, 4)"
      ]
     },
     "execution_count": 4,
     "metadata": {},
     "output_type": "execute_result"
    }
   ],
   "source": [
    "x[1:4]"
   ]
  },
  {
   "cell_type": "markdown",
   "id": "ef212cc1-0d0a-44b7-9fcb-ea78f51547a1",
   "metadata": {},
   "source": [
    "#### 4. Given the tuple (1, 2, 2, 3, 4, 4, 4), count how many times the number 4 appears."
   ]
  },
  {
   "cell_type": "code",
   "execution_count": 5,
   "id": "5b299271-7aa9-4524-9504-3a08741c10a3",
   "metadata": {},
   "outputs": [],
   "source": [
    "x = (1, 2, 2, 3, 4, 4, 4)"
   ]
  },
  {
   "cell_type": "code",
   "execution_count": 6,
   "id": "e71703a4-fb1d-4473-a1b3-d9e869cf4bdf",
   "metadata": {},
   "outputs": [
    {
     "data": {
      "text/plain": [
       "3"
      ]
     },
     "execution_count": 6,
     "metadata": {},
     "output_type": "execute_result"
    }
   ],
   "source": [
    "x.count(4)"
   ]
  },
  {
   "cell_type": "markdown",
   "id": "2a83baf0-836f-49ff-a2b6-3ea1e46643a5",
   "metadata": {},
   "source": [
    "#### 5. Convert the list [10, 20, 30, 40, 50] into a tuple."
   ]
  },
  {
   "cell_type": "code",
   "execution_count": 7,
   "id": "ac30259b-807a-498c-9928-1319f5365eec",
   "metadata": {},
   "outputs": [],
   "source": [
    "my_list = [10, 20, 30, 40, 50]"
   ]
  },
  {
   "cell_type": "code",
   "execution_count": 8,
   "id": "d2e2078d-f40d-492c-a222-a53b6e95bf48",
   "metadata": {},
   "outputs": [],
   "source": [
    "my_tuple = tuple(my_list)"
   ]
  },
  {
   "cell_type": "code",
   "execution_count": 9,
   "id": "cbe40fec-f458-4b84-b1fd-6bc9f2f8f363",
   "metadata": {},
   "outputs": [
    {
     "data": {
      "text/plain": [
       "(10, 20, 30, 40, 50)"
      ]
     },
     "execution_count": 9,
     "metadata": {},
     "output_type": "execute_result"
    }
   ],
   "source": [
    "my_tuple"
   ]
  },
  {
   "cell_type": "markdown",
   "id": "879c2038-4ce3-49e5-b314-563141bf19af",
   "metadata": {},
   "source": [
    "#### 6. Unpack the tuple (10, 20, 30) into three variables a, b, and c."
   ]
  },
  {
   "cell_type": "code",
   "execution_count": 10,
   "id": "6157e397-8b25-4c49-9245-5b32abfe8d2c",
   "metadata": {},
   "outputs": [],
   "source": [
    "my_tuple = (10, 20, 30)\n",
    "\n",
    "a, b, c = my_tuple"
   ]
  },
  {
   "cell_type": "code",
   "execution_count": 11,
   "id": "81f8ab1f-4cd5-4189-9295-f9c5164fc4f8",
   "metadata": {},
   "outputs": [
    {
     "data": {
      "text/plain": [
       "10"
      ]
     },
     "execution_count": 11,
     "metadata": {},
     "output_type": "execute_result"
    }
   ],
   "source": [
    "a"
   ]
  },
  {
   "cell_type": "code",
   "execution_count": 12,
   "id": "2c2d8cc0-14d6-483c-9b71-cba436b574ef",
   "metadata": {},
   "outputs": [
    {
     "data": {
      "text/plain": [
       "20"
      ]
     },
     "execution_count": 12,
     "metadata": {},
     "output_type": "execute_result"
    }
   ],
   "source": [
    "b"
   ]
  },
  {
   "cell_type": "code",
   "execution_count": 13,
   "id": "a9f85a8c-60a7-4846-a797-b33fa7a00bac",
   "metadata": {},
   "outputs": [
    {
     "data": {
      "text/plain": [
       "30"
      ]
     },
     "execution_count": 13,
     "metadata": {},
     "output_type": "execute_result"
    }
   ],
   "source": [
    "c"
   ]
  },
  {
   "cell_type": "markdown",
   "id": "e69b58ac-912f-4f30-8b3e-16736db62e26",
   "metadata": {},
   "source": [
    "#### 7. Convert the string \"hello\" into a tuple where each character is an element."
   ]
  },
  {
   "cell_type": "code",
   "execution_count": 14,
   "id": "6d8e086c-a866-4468-bb9e-ac95521cfa14",
   "metadata": {},
   "outputs": [],
   "source": [
    "my_string = \"hello\""
   ]
  },
  {
   "cell_type": "code",
   "execution_count": 15,
   "id": "9ae576eb-d57a-45fd-9de6-604eb9a449db",
   "metadata": {},
   "outputs": [],
   "source": [
    "my_tuple = tuple(my_string)"
   ]
  },
  {
   "cell_type": "code",
   "execution_count": 16,
   "id": "9fe7adf9-e347-4501-a8a6-cb48c27590d4",
   "metadata": {},
   "outputs": [
    {
     "data": {
      "text/plain": [
       "('h', 'e', 'l', 'l', 'o')"
      ]
     },
     "execution_count": 16,
     "metadata": {},
     "output_type": "execute_result"
    }
   ],
   "source": [
    "my_tuple"
   ]
  },
  {
   "cell_type": "markdown",
   "id": "d3cce427-2ec4-4c5e-87c9-93d4c863aecd",
   "metadata": {},
   "source": [
    "#### 8. Given two variables a = 10 and b = 20, swap their values using tuple unpacking."
   ]
  },
  {
   "cell_type": "code",
   "execution_count": 17,
   "id": "9aa26be9-4076-422b-b672-00fd1963ba7e",
   "metadata": {},
   "outputs": [],
   "source": [
    "a = 10\n",
    "b = 20\n",
    "\n",
    "a, b = b, a"
   ]
  },
  {
   "cell_type": "code",
   "execution_count": 18,
   "id": "1472de2a-7444-40dd-a947-795fffee6fe1",
   "metadata": {},
   "outputs": [
    {
     "data": {
      "text/plain": [
       "20"
      ]
     },
     "execution_count": 18,
     "metadata": {},
     "output_type": "execute_result"
    }
   ],
   "source": [
    "a"
   ]
  },
  {
   "cell_type": "code",
   "execution_count": 19,
   "id": "23045aa5-5227-4c66-8258-916cffff556c",
   "metadata": {},
   "outputs": [
    {
     "data": {
      "text/plain": [
       "10"
      ]
     },
     "execution_count": 19,
     "metadata": {},
     "output_type": "execute_result"
    }
   ],
   "source": [
    "b"
   ]
  },
  {
   "cell_type": "markdown",
   "id": "cf3ad2ad-8557-4457-bb2f-95b4639fd637",
   "metadata": {},
   "source": [
    "## <span style = color:brown;> Assignment - Set, Boolean</span>"
   ]
  },
  {
   "cell_type": "markdown",
   "id": "0cdce310-8d8a-4e52-b094-37692f6fbd95",
   "metadata": {},
   "source": [
    "#### 9. Create a set x with the elements 1, 2, 3, 4, 5."
   ]
  },
  {
   "cell_type": "code",
   "execution_count": 20,
   "id": "25e85ac7-7ad8-4904-9b69-f45c355c2901",
   "metadata": {},
   "outputs": [],
   "source": [
    "x = {1, 2, 3, 4, 5}"
   ]
  },
  {
   "cell_type": "code",
   "execution_count": 21,
   "id": "4de306ad-d72f-412c-8153-e35a89882d57",
   "metadata": {},
   "outputs": [
    {
     "data": {
      "text/plain": [
       "{1, 2, 3, 4, 5}"
      ]
     },
     "execution_count": 21,
     "metadata": {},
     "output_type": "execute_result"
    }
   ],
   "source": [
    "x"
   ]
  },
  {
   "cell_type": "markdown",
   "id": "15cf513c-aa0f-4b44-8213-318b2de99d28",
   "metadata": {},
   "source": [
    "#### 10. Add the element 6 to the set x"
   ]
  },
  {
   "cell_type": "code",
   "execution_count": 22,
   "id": "4b231750-fd92-4185-942e-baf480aede62",
   "metadata": {},
   "outputs": [],
   "source": [
    "x.add(6)"
   ]
  },
  {
   "cell_type": "code",
   "execution_count": 23,
   "id": "a22730e6-3c74-4e1f-8a5c-c0d2c5f0edc4",
   "metadata": {},
   "outputs": [
    {
     "data": {
      "text/plain": [
       "{1, 2, 3, 4, 5, 6}"
      ]
     },
     "execution_count": 23,
     "metadata": {},
     "output_type": "execute_result"
    }
   ],
   "source": [
    "x"
   ]
  },
  {
   "cell_type": "markdown",
   "id": "ebfbaa4a-c363-4ba4-a4e1-410b01922204",
   "metadata": {},
   "source": [
    "#### 11. Find the union of two sets {1, 2, 3} and {3, 4, 5}"
   ]
  },
  {
   "cell_type": "code",
   "execution_count": 24,
   "id": "71f6de7a-8241-48f1-b630-03c633cad009",
   "metadata": {},
   "outputs": [],
   "source": [
    "set1 = {1, 2, 3}\n",
    "set2 = {3, 4, 5}"
   ]
  },
  {
   "cell_type": "code",
   "execution_count": 25,
   "id": "a423ac94-7132-4896-86a9-786e3cfed23e",
   "metadata": {},
   "outputs": [
    {
     "data": {
      "text/plain": [
       "{1, 2, 3, 4, 5}"
      ]
     },
     "execution_count": 25,
     "metadata": {},
     "output_type": "execute_result"
    }
   ],
   "source": [
    "set1.union(set2)"
   ]
  },
  {
   "cell_type": "markdown",
   "id": "319f848e-cf5d-4150-9236-5165934b42db",
   "metadata": {},
   "source": [
    "#### 12. Find the intersection of two sets {1, 2, 3} and {2, 3, 4}."
   ]
  },
  {
   "cell_type": "code",
   "execution_count": 26,
   "id": "ef07a72d-687a-494d-83eb-330547422589",
   "metadata": {},
   "outputs": [],
   "source": [
    "set1 = {1, 2, 3}\n",
    "set2 = {2, 3, 4}"
   ]
  },
  {
   "cell_type": "code",
   "execution_count": 27,
   "id": "78646485-8197-429d-9217-5da39e8d53d0",
   "metadata": {},
   "outputs": [
    {
     "data": {
      "text/plain": [
       "{2, 3}"
      ]
     },
     "execution_count": 27,
     "metadata": {},
     "output_type": "execute_result"
    }
   ],
   "source": [
    "set1.intersection(set2)"
   ]
  },
  {
   "cell_type": "markdown",
   "id": "9b099ae6-a40b-4b85-b555-82d28d4e4274",
   "metadata": {},
   "source": [
    "#### 13. Find the difference between two sets {1, 2, 3} and {2, 3, 4} (elements present in the first set but not in the second)."
   ]
  },
  {
   "cell_type": "code",
   "execution_count": 28,
   "id": "94c1fd33-8112-4226-be5e-3271957ec311",
   "metadata": {},
   "outputs": [],
   "source": [
    "set1 = {1, 2, 3}\n",
    "set2 = {2, 3, 4}"
   ]
  },
  {
   "cell_type": "code",
   "execution_count": 29,
   "id": "aba362d5-6ead-4420-99d4-f387967fa53a",
   "metadata": {},
   "outputs": [],
   "source": [
    "diff = set1 - set2"
   ]
  },
  {
   "cell_type": "code",
   "execution_count": 30,
   "id": "97837a0a-1d78-41fb-ad5e-67591a7f3d7e",
   "metadata": {},
   "outputs": [
    {
     "data": {
      "text/plain": [
       "{1}"
      ]
     },
     "execution_count": 30,
     "metadata": {},
     "output_type": "execute_result"
    }
   ],
   "source": [
    "diff"
   ]
  },
  {
   "cell_type": "markdown",
   "id": "33a20183-a3c7-4798-839d-7564c954e9c9",
   "metadata": {},
   "source": [
    "#### 14. Convert the list [1, 2, 2, 3, 3, 4, 4] into a set."
   ]
  },
  {
   "cell_type": "code",
   "execution_count": 31,
   "id": "23780329-b7f2-4c1b-b984-86b0d42b65ae",
   "metadata": {},
   "outputs": [],
   "source": [
    "my_list = [1, 2, 2, 3, 3, 4, 4]\n",
    "\n",
    "my_set = set(my_list)"
   ]
  },
  {
   "cell_type": "code",
   "execution_count": 32,
   "id": "84beb0d6-1d57-45ec-b0ab-7dba9d16fafa",
   "metadata": {},
   "outputs": [
    {
     "data": {
      "text/plain": [
       "{1, 2, 3, 4}"
      ]
     },
     "execution_count": 32,
     "metadata": {},
     "output_type": "execute_result"
    }
   ],
   "source": [
    "my_set"
   ]
  },
  {
   "cell_type": "markdown",
   "id": "1a5e628a-098c-4c17-88cd-addd710e84ff",
   "metadata": {},
   "source": [
    "#### 15. Convert the integer 0 and the string \"hello\" to their corresponding Boolean values."
   ]
  },
  {
   "cell_type": "code",
   "execution_count": 33,
   "id": "5efb1041-d2a4-4cf5-a394-680e980d1221",
   "metadata": {},
   "outputs": [],
   "source": [
    "my_int = 0\n",
    "my_str = \"hello\""
   ]
  },
  {
   "cell_type": "code",
   "execution_count": 34,
   "id": "26b6c81c-0d57-4eb3-9205-c2d44070fa09",
   "metadata": {},
   "outputs": [],
   "source": [
    "boolint = bool(my_int)\n",
    "boolstr = bool(my_str)"
   ]
  },
  {
   "cell_type": "code",
   "execution_count": 35,
   "id": "139893a3-95e2-4e1e-9b30-a9ac537fa3d2",
   "metadata": {},
   "outputs": [
    {
     "data": {
      "text/plain": [
       "False"
      ]
     },
     "execution_count": 35,
     "metadata": {},
     "output_type": "execute_result"
    }
   ],
   "source": [
    "boolint"
   ]
  },
  {
   "cell_type": "code",
   "execution_count": 36,
   "id": "229e83ea-0c42-4782-92e3-cac55ae99427",
   "metadata": {},
   "outputs": [
    {
     "data": {
      "text/plain": [
       "True"
      ]
     },
     "execution_count": 36,
     "metadata": {},
     "output_type": "execute_result"
    }
   ],
   "source": [
    "boolstr"
   ]
  },
  {
   "cell_type": "markdown",
   "id": "8a150bf1-3d9e-40fe-84e2-5a3c1a7d5a73",
   "metadata": {},
   "source": [
    "**bool(0) returns False because 0 is considered a falsy value.** \n",
    "\n",
    "**bool(\"hello\") returns True because non-empty strings are truthy.**"
   ]
  },
  {
   "cell_type": "markdown",
   "id": "fa923229-80a8-4a9f-a5c9-54b8fad69210",
   "metadata": {},
   "source": [
    "#### 16. What will be the Boolean output of this comparison?"
   ]
  },
  {
   "cell_type": "code",
   "execution_count": 37,
   "id": "77190643-1a0b-416f-ae1c-690f8a444aa4",
   "metadata": {},
   "outputs": [],
   "source": [
    "x = 5\n",
    "y = 10"
   ]
  },
  {
   "cell_type": "code",
   "execution_count": 38,
   "id": "42c007bf-2fe5-4525-be95-f56379febece",
   "metadata": {},
   "outputs": [
    {
     "data": {
      "text/plain": [
       "False"
      ]
     },
     "execution_count": 38,
     "metadata": {},
     "output_type": "execute_result"
    }
   ],
   "source": [
    "x > y"
   ]
  },
  {
   "cell_type": "code",
   "execution_count": 39,
   "id": "034301b9-fe64-4076-bc43-1fbcbee5be51",
   "metadata": {},
   "outputs": [
    {
     "data": {
      "text/plain": [
       "True"
      ]
     },
     "execution_count": 39,
     "metadata": {},
     "output_type": "execute_result"
    }
   ],
   "source": [
    "x < y"
   ]
  },
  {
   "cell_type": "code",
   "execution_count": 40,
   "id": "f1b820fc-7988-45f5-8056-d7db79e0f6d0",
   "metadata": {},
   "outputs": [
    {
     "data": {
      "text/plain": [
       "False"
      ]
     },
     "execution_count": 40,
     "metadata": {},
     "output_type": "execute_result"
    }
   ],
   "source": [
    "x == y"
   ]
  },
  {
   "cell_type": "code",
   "execution_count": 41,
   "id": "8fc3af6c-019f-48f4-b5e9-b7fac2e94544",
   "metadata": {},
   "outputs": [
    {
     "data": {
      "text/plain": [
       "True"
      ]
     },
     "execution_count": 41,
     "metadata": {},
     "output_type": "execute_result"
    }
   ],
   "source": [
    "x != y"
   ]
  },
  {
   "cell_type": "markdown",
   "id": "b084d1b3-9bed-4d47-b39b-1b6830aa5d33",
   "metadata": {},
   "source": [
    "#### 17. Evaluate the expression True + True + False."
   ]
  },
  {
   "cell_type": "markdown",
   "id": "3c8a6fe3-af5e-4372-a2f1-4b5cef75fb6f",
   "metadata": {},
   "source": [
    "In Python, True is treated as 1 and False as 0 in arithmetic operations."
   ]
  },
  {
   "cell_type": "code",
   "execution_count": 42,
   "id": "4b6700e2-b51c-4c07-b109-1aa2aaaa60b3",
   "metadata": {},
   "outputs": [
    {
     "data": {
      "text/plain": [
       "2"
      ]
     },
     "execution_count": 42,
     "metadata": {},
     "output_type": "execute_result"
    }
   ],
   "source": [
    "True + True + False"
   ]
  },
  {
   "cell_type": "markdown",
   "id": "4fcec997-a1b2-47d2-8cb5-ef46b0bc039b",
   "metadata": {},
   "source": [
    "## <span style = color:brown;> Assignment - Dictionary</span>"
   ]
  },
  {
   "cell_type": "markdown",
   "id": "313751d9-1ad8-46c6-a739-c5010f5f5eff",
   "metadata": {},
   "source": [
    "#### 18. Given the dictionary person = {\"name\": \"John\", \"age\": 30}, retrieve the value associated with the key \"name\"."
   ]
  },
  {
   "cell_type": "code",
   "execution_count": 43,
   "id": "6b1f26c8-c6bf-470f-8f50-2457dafed167",
   "metadata": {},
   "outputs": [],
   "source": [
    "person = {\"name\": \"John\", \"age\": 30}"
   ]
  },
  {
   "cell_type": "code",
   "execution_count": 44,
   "id": "4cf8cd14-eaa1-4016-9bef-96bbe806f813",
   "metadata": {},
   "outputs": [
    {
     "data": {
      "text/plain": [
       "{'name': 'John', 'age': 30}"
      ]
     },
     "execution_count": 44,
     "metadata": {},
     "output_type": "execute_result"
    }
   ],
   "source": [
    "person"
   ]
  },
  {
   "cell_type": "code",
   "execution_count": 45,
   "id": "f9c35056-a387-4bac-a430-112376d9c2fc",
   "metadata": {},
   "outputs": [
    {
     "data": {
      "text/plain": [
       "'John'"
      ]
     },
     "execution_count": 45,
     "metadata": {},
     "output_type": "execute_result"
    }
   ],
   "source": [
    "person[\"name\"]"
   ]
  },
  {
   "cell_type": "markdown",
   "id": "058db83e-c550-4596-9922-a838e1719a38",
   "metadata": {},
   "source": [
    "#### 19. Add a new key \"city\" with the value \"New York\" to the dictionary person = {\"name\": \"John\", \"age\": 30}."
   ]
  },
  {
   "cell_type": "code",
   "execution_count": 46,
   "id": "9ccc80e0-6cf1-4078-8b1a-b878c9658cc0",
   "metadata": {},
   "outputs": [],
   "source": [
    "person[\"city\"] = \"New york\" "
   ]
  },
  {
   "cell_type": "code",
   "execution_count": 47,
   "id": "7c324341-f021-4141-8916-b8ca53b1e37d",
   "metadata": {},
   "outputs": [
    {
     "data": {
      "text/plain": [
       "{'name': 'John', 'age': 30, 'city': 'New york'}"
      ]
     },
     "execution_count": 47,
     "metadata": {},
     "output_type": "execute_result"
    }
   ],
   "source": [
    "person"
   ]
  },
  {
   "cell_type": "markdown",
   "id": "f3e552b4-d09b-4a85-8b71-045f52f9fc33",
   "metadata": {},
   "source": [
    "#### 20. Update the value associated with the key \"age\" to 35 in the dictionary person = {\"name\": \"John\", \"age\": 30}."
   ]
  },
  {
   "cell_type": "code",
   "execution_count": 48,
   "id": "cbc3e539-f11c-4318-9bc4-9dcda0d2b9c9",
   "metadata": {},
   "outputs": [],
   "source": [
    "person[\"age\"] = 35"
   ]
  },
  {
   "cell_type": "code",
   "execution_count": 49,
   "id": "2cb31d31-ed86-4161-9e4f-8cbeb5ad658e",
   "metadata": {},
   "outputs": [
    {
     "data": {
      "text/plain": [
       "{'name': 'John', 'age': 35, 'city': 'New york'}"
      ]
     },
     "execution_count": 49,
     "metadata": {},
     "output_type": "execute_result"
    }
   ],
   "source": [
    "person"
   ]
  },
  {
   "cell_type": "markdown",
   "id": "57df4e01-1923-4ec0-93c3-f65a5cadc0ce",
   "metadata": {},
   "source": [
    "#### 21. Remove the key \"age\" from the dictionary person = {\"name\": \"John\", \"age\": 30, \"city\": \"New York\"}."
   ]
  },
  {
   "cell_type": "code",
   "execution_count": 50,
   "id": "a09ed60b-337f-4b98-a9c5-60da9e9aacfe",
   "metadata": {},
   "outputs": [
    {
     "data": {
      "text/plain": [
       "35"
      ]
     },
     "execution_count": 50,
     "metadata": {},
     "output_type": "execute_result"
    }
   ],
   "source": [
    "person.pop(\"age\")"
   ]
  },
  {
   "cell_type": "code",
   "execution_count": 51,
   "id": "40af113c-3fcd-4771-a21a-8046a67128a3",
   "metadata": {},
   "outputs": [
    {
     "data": {
      "text/plain": [
       "{'name': 'John', 'city': 'New york'}"
      ]
     },
     "execution_count": 51,
     "metadata": {},
     "output_type": "execute_result"
    }
   ],
   "source": [
    "person"
   ]
  },
  {
   "cell_type": "markdown",
   "id": "930e09b1-dddb-4946-b2c0-82bcbbdbb76b",
   "metadata": {},
   "source": [
    "#### 22. Use the keys() method to retrieve all keys from the dictionary person = {\"name\": \"John\", \"age\": 30, \"city\": \"New York\"}."
   ]
  },
  {
   "cell_type": "code",
   "execution_count": 52,
   "id": "1ba19779-4f54-4f8c-9630-5073da34fe36",
   "metadata": {},
   "outputs": [],
   "source": [
    "person = {\"name\": \"John\", \"age\": 30, \"city\": \"New York\"}"
   ]
  },
  {
   "cell_type": "code",
   "execution_count": 53,
   "id": "100fa079-c65e-4086-a383-3e887dbfc584",
   "metadata": {},
   "outputs": [
    {
     "data": {
      "text/plain": [
       "dict_keys(['name', 'age', 'city'])"
      ]
     },
     "execution_count": 53,
     "metadata": {},
     "output_type": "execute_result"
    }
   ],
   "source": [
    "person.keys()"
   ]
  },
  {
   "cell_type": "markdown",
   "id": "ed49f3e2-1ca5-4c23-b364-d98ff8297cd3",
   "metadata": {},
   "source": [
    "#### 23. Use the values() method to retrieve all values from the dictionary person = {\"name\": \"John\", \"age\": 30, \"city\": \"New York\"}."
   ]
  },
  {
   "cell_type": "code",
   "execution_count": 54,
   "id": "9fc61208-8c51-4bf2-834a-a8163197f234",
   "metadata": {},
   "outputs": [
    {
     "data": {
      "text/plain": [
       "dict_values(['John', 30, 'New York'])"
      ]
     },
     "execution_count": 54,
     "metadata": {},
     "output_type": "execute_result"
    }
   ],
   "source": [
    "person.values()"
   ]
  },
  {
   "cell_type": "markdown",
   "id": "79efca8b-33f8-4a46-8bf2-5b7d7c6958d7",
   "metadata": {},
   "source": [
    "#### 24. Grab 'hello'"
   ]
  },
  {
   "cell_type": "code",
   "execution_count": 55,
   "id": "ff8e2ac6-2025-4301-b168-b365a19aee50",
   "metadata": {},
   "outputs": [],
   "source": [
    "d = {'simple_key':'hello'}"
   ]
  },
  {
   "cell_type": "code",
   "execution_count": 56,
   "id": "9bb03a63-219e-4b8d-bb16-f02953970df8",
   "metadata": {},
   "outputs": [
    {
     "data": {
      "text/plain": [
       "'hello'"
      ]
     },
     "execution_count": 56,
     "metadata": {},
     "output_type": "execute_result"
    }
   ],
   "source": [
    "d['simple_key']"
   ]
  },
  {
   "cell_type": "code",
   "execution_count": 57,
   "id": "af9a5925-57c6-4dfc-a90c-346c11dac413",
   "metadata": {},
   "outputs": [
    {
     "data": {
      "text/plain": [
       "'hello'"
      ]
     },
     "execution_count": 57,
     "metadata": {},
     "output_type": "execute_result"
    }
   ],
   "source": [
    "d.get(\"simple_key\")"
   ]
  },
  {
   "cell_type": "markdown",
   "id": "f6c6b250-0d1a-4fe9-8714-dbb8822752fb",
   "metadata": {},
   "source": [
    "#### 25. Grab 'hello'"
   ]
  },
  {
   "cell_type": "code",
   "execution_count": 62,
   "id": "64e774ca-12a7-45b5-8f9d-233295ba9335",
   "metadata": {},
   "outputs": [],
   "source": [
    "d = {'k1':{'k2':'hello'}}"
   ]
  },
  {
   "cell_type": "code",
   "execution_count": 77,
   "id": "98a7efb3-b830-4e67-972f-146fc6f827bf",
   "metadata": {},
   "outputs": [
    {
     "data": {
      "text/plain": [
       "'hello'"
      ]
     },
     "execution_count": 77,
     "metadata": {},
     "output_type": "execute_result"
    }
   ],
   "source": [
    "d['k1']['k2']"
   ]
  },
  {
   "cell_type": "code",
   "execution_count": 78,
   "id": "c3882a77-0111-4630-9b4c-0d91a787d3b1",
   "metadata": {},
   "outputs": [],
   "source": [
    "my_dict1 = d[\"k1\"]\n",
    "my_dict2 = my_dict1[\"k2\"]"
   ]
  },
  {
   "cell_type": "code",
   "execution_count": 79,
   "id": "2ddb3ad5-937a-4185-abc0-84e64cb35713",
   "metadata": {},
   "outputs": [
    {
     "data": {
      "text/plain": [
       "'hello'"
      ]
     },
     "execution_count": 79,
     "metadata": {},
     "output_type": "execute_result"
    }
   ],
   "source": [
    "my_dict2"
   ]
  },
  {
   "cell_type": "markdown",
   "id": "592cb9bc-64de-4a65-a6fc-daf40c194350",
   "metadata": {},
   "source": [
    "#### 26. Grab 'hello'"
   ]
  },
  {
   "cell_type": "code",
   "execution_count": 87,
   "id": "9b31cf99-9faf-4809-b374-d6c0df9fb4fe",
   "metadata": {},
   "outputs": [],
   "source": [
    "# Getting a little tricker\n",
    "d = {'k1':[{'nest_key':['this is deep',['hello']]}]}"
   ]
  },
  {
   "cell_type": "code",
   "execution_count": 89,
   "id": "d90ce004-fc5f-4ef4-89c9-640db502cd56",
   "metadata": {},
   "outputs": [],
   "source": [
    "my_dict = d[\"k1\"][0]['nest_key'][1][0]"
   ]
  },
  {
   "cell_type": "code",
   "execution_count": 90,
   "id": "3d2ae9e8-649c-485e-85ff-ce4012a496a4",
   "metadata": {},
   "outputs": [
    {
     "data": {
      "text/plain": [
       "'hello'"
      ]
     },
     "execution_count": 90,
     "metadata": {},
     "output_type": "execute_result"
    }
   ],
   "source": [
    "my_dict"
   ]
  },
  {
   "cell_type": "markdown",
   "id": "778b00e0-816e-4154-8666-4ba995886bfb",
   "metadata": {},
   "source": [
    "#### 27. Grab 'hello'"
   ]
  },
  {
   "cell_type": "code",
   "execution_count": 93,
   "id": "d19b4776-c165-4fc4-992c-89ea9f8690e9",
   "metadata": {},
   "outputs": [],
   "source": [
    "# This will be hard and annoying!\n",
    "d = {'k1':[1,2,{'k2':['this is tricky',{'tough':[1,2,['hello']]}]}]}"
   ]
  },
  {
   "cell_type": "code",
   "execution_count": 94,
   "id": "9afb78d4-aa5a-4f42-bbdd-e0486580b719",
   "metadata": {},
   "outputs": [],
   "source": [
    "my_dict = d[\"k1\"][2][\"k2\"][1][\"tough\"][2][0]"
   ]
  },
  {
   "cell_type": "code",
   "execution_count": 95,
   "id": "83984fb5-9d33-4785-bc80-425eea2b1d3d",
   "metadata": {},
   "outputs": [
    {
     "data": {
      "text/plain": [
       "'hello'"
      ]
     },
     "execution_count": 95,
     "metadata": {},
     "output_type": "execute_result"
    }
   ],
   "source": [
    "my_dict"
   ]
  },
  {
   "cell_type": "markdown",
   "id": "dfa17831-8188-4c1f-9fb5-82e092787ca8",
   "metadata": {},
   "source": [
    "***"
   ]
  }
 ],
 "metadata": {
  "kernelspec": {
   "display_name": "Python 3 (ipykernel)",
   "language": "python",
   "name": "python3"
  },
  "language_info": {
   "codemirror_mode": {
    "name": "ipython",
    "version": 3
   },
   "file_extension": ".py",
   "mimetype": "text/x-python",
   "name": "python",
   "nbconvert_exporter": "python",
   "pygments_lexer": "ipython3",
   "version": "3.10.0"
  }
 },
 "nbformat": 4,
 "nbformat_minor": 5
}
